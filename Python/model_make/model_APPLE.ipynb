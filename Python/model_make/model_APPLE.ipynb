{
 "cells": [
  {
   "cell_type": "code",
   "execution_count": 1,
   "id": "42fb5abc",
   "metadata": {},
   "outputs": [],
   "source": [
    "import pandas as pd\n",
    "import numpy as np\n",
    "import matplotlib.pyplot as plt\n",
    "import tensorflow as tf\n",
    "import tensorflow.keras as K\n",
    "from tensorflow.keras import models\n",
    "from tensorflow.keras import layers\n",
    "from sklearn.metrics import accuracy_score"
   ]
  },
  {
   "cell_type": "code",
   "execution_count": 2,
   "id": "4e6e66a1",
   "metadata": {},
   "outputs": [],
   "source": [
    "def make_dataset(data, label, window_size=5):\n",
    "    feature_list = []\n",
    "    label_list = []\n",
    "\n",
    "    for i in range(len(data) - window_size):\n",
    "        feature_list.append(np.array(data.iloc[i:i+window_size]))\n",
    "        label_list.append(np.array(label.iloc[i:i+window_size]))\n",
    "    return np.array(feature_list), np.array(label_list)"
   ]
  },
  {
   "cell_type": "code",
   "execution_count": 3,
   "id": "c3ae3550",
   "metadata": {},
   "outputs": [],
   "source": [
    "df = pd.read_csv(\"../data_dir/train_APPLE_0619.csv\")\n",
    "df[\"Medium\"] = df[[\"High\", \"Low\"]].mean(axis = 1)\n",
    "feature_Df = df[[\"High\", \"Low\", \"Open\", \"Medium\"]]\n",
    "target_Df = df[\"Close\"]\n",
    "train_Feature, train_Label = make_dataset(feature_Df, target_Df)"
   ]
  },
  {
   "cell_type": "code",
   "execution_count": 4,
   "id": "ce3cafbb",
   "metadata": {},
   "outputs": [
    {
     "name": "stdout",
     "output_type": "stream",
     "text": [
      "WARNING:tensorflow:Layer lstm will not use cuDNN kernel since it doesn't meet the cuDNN kernel criteria. It will use generic GPU kernel as fallback when running on GPU\n",
      "Model: \"sequential\"\n",
      "_________________________________________________________________\n",
      "Layer (type)                 Output Shape              Param #   \n",
      "=================================================================\n",
      "lstm (LSTM)                  (None, 16)                1344      \n",
      "_________________________________________________________________\n",
      "dense (Dense)                (None, 1)                 17        \n",
      "=================================================================\n",
      "Total params: 1,361\n",
      "Trainable params: 1,361\n",
      "Non-trainable params: 0\n",
      "_________________________________________________________________\n"
     ]
    }
   ],
   "source": [
    "feature = 4\n",
    "timesteps = 5\n",
    "cell_size = 16\n",
    "#learning_rate = 0.1\n",
    "batch_size = 32\n",
    "epochs = 50\n",
    "\n",
    "\n",
    "input_shape = (timesteps, feature)\n",
    "model = models.Sequential()\n",
    "model.add(layers.LSTM(cell_size, input_shape = input_shape,activation=\"relu\", return_sequences = False))\n",
    "#model.add(layers.Dropout(0.2))\n",
    "#model.add(layers.LSTM(cell_size))\n",
    "#model.add(layers.Dropout(0.2))\n",
    "model.add(layers.Dense(1))\n",
    "optimizer = K.optimizers.Adam() #(lr = learning_rate)\n",
    "loss_func = K.losses.mse\n",
    "acc = K.metrics.RootMeanSquaredError\n",
    "model.compile(optimizer = optimizer, loss = loss_func, metrics = [K.metrics.RootMeanSquaredError()])\n",
    "\n",
    "model.summary()"
   ]
  },
  {
   "cell_type": "code",
   "execution_count": 5,
   "id": "0122ce85",
   "metadata": {},
   "outputs": [
    {
     "name": "stdout",
     "output_type": "stream",
     "text": [
      "Epoch 1/50\n",
      "311/311 [==============================] - 23s 44ms/step - loss: 54.6412 - root_mean_squared_error: 6.7794\n",
      "Epoch 2/50\n",
      "311/311 [==============================] - 14s 44ms/step - loss: 0.1930 - root_mean_squared_error: 0.4374\n",
      "Epoch 3/50\n",
      "311/311 [==============================] - 14s 44ms/step - loss: 0.2290 - root_mean_squared_error: 0.4757\n",
      "Epoch 4/50\n",
      "311/311 [==============================] - 14s 44ms/step - loss: 0.2069 - root_mean_squared_error: 0.4532\n",
      "Epoch 5/50\n",
      "311/311 [==============================] - 14s 44ms/step - loss: 0.2351 - root_mean_squared_error: 0.4842\n",
      "Epoch 6/50\n",
      "311/311 [==============================] - 14s 44ms/step - loss: 0.2264 - root_mean_squared_error: 0.4754\n",
      "Epoch 7/50\n",
      "311/311 [==============================] - 14s 44ms/step - loss: 0.2127 - root_mean_squared_error: 0.4606\n",
      "Epoch 8/50\n",
      "311/311 [==============================] - 14s 44ms/step - loss: 0.2397 - root_mean_squared_error: 0.4893\n",
      "Epoch 9/50\n",
      "311/311 [==============================] - 13s 43ms/step - loss: 0.2339 - root_mean_squared_error: 0.4827\n",
      "Epoch 10/50\n",
      "311/311 [==============================] - 14s 43ms/step - loss: 0.2223 - root_mean_squared_error: 0.4710\n",
      "Epoch 11/50\n",
      "311/311 [==============================] - 14s 44ms/step - loss: 0.2131 - root_mean_squared_error: 0.4604\n",
      "Epoch 12/50\n",
      "311/311 [==============================] - 14s 43ms/step - loss: 0.2402 - root_mean_squared_error: 0.4878\n",
      "Epoch 13/50\n",
      "311/311 [==============================] - 14s 44ms/step - loss: 0.2140 - root_mean_squared_error: 0.4593\n",
      "Epoch 14/50\n",
      "311/311 [==============================] - 14s 44ms/step - loss: 0.2019 - root_mean_squared_error: 0.4485\n",
      "Epoch 15/50\n",
      "311/311 [==============================] - 14s 44ms/step - loss: 0.2144 - root_mean_squared_error: 0.4599\n",
      "Epoch 16/50\n",
      "311/311 [==============================] - 14s 44ms/step - loss: 0.2407 - root_mean_squared_error: 0.4893\n",
      "Epoch 17/50\n",
      "311/311 [==============================] - 14s 44ms/step - loss: 0.2210 - root_mean_squared_error: 0.4692\n",
      "Epoch 18/50\n",
      "311/311 [==============================] - 14s 44ms/step - loss: 0.2368 - root_mean_squared_error: 0.4855\n",
      "Epoch 19/50\n",
      "311/311 [==============================] - 14s 44ms/step - loss: 0.2299 - root_mean_squared_error: 0.4788\n",
      "Epoch 20/50\n",
      "311/311 [==============================] - 14s 45ms/step - loss: 0.2082 - root_mean_squared_error: 0.4550\n",
      "Epoch 21/50\n",
      "311/311 [==============================] - 14s 44ms/step - loss: 0.2289 - root_mean_squared_error: 0.4771\n",
      "Epoch 22/50\n",
      "311/311 [==============================] - 14s 44ms/step - loss: 0.1916 - root_mean_squared_error: 0.4359\n",
      "Epoch 23/50\n",
      "311/311 [==============================] - 14s 44ms/step - loss: 0.2326 - root_mean_squared_error: 0.4812\n",
      "Epoch 24/50\n",
      "311/311 [==============================] - 14s 43ms/step - loss: 0.2184 - root_mean_squared_error: 0.4668\n",
      "Epoch 25/50\n",
      "311/311 [==============================] - 14s 44ms/step - loss: 0.2360 - root_mean_squared_error: 0.4851\n",
      "Epoch 26/50\n",
      "311/311 [==============================] - 14s 44ms/step - loss: 0.1908 - root_mean_squared_error: 0.4364\n",
      "Epoch 27/50\n",
      "311/311 [==============================] - 14s 44ms/step - loss: 0.2630 - root_mean_squared_error: 0.5111\n",
      "Epoch 28/50\n",
      "311/311 [==============================] - 14s 45ms/step - loss: 0.1992 - root_mean_squared_error: 0.4456\n",
      "Epoch 29/50\n",
      "311/311 [==============================] - 14s 44ms/step - loss: 0.2092 - root_mean_squared_error: 0.4570\n",
      "Epoch 30/50\n",
      "311/311 [==============================] - 14s 44ms/step - loss: 0.2224 - root_mean_squared_error: 0.4713\n",
      "Epoch 31/50\n",
      "311/311 [==============================] - 14s 44ms/step - loss: 0.2217 - root_mean_squared_error: 0.4697\n",
      "Epoch 32/50\n",
      "311/311 [==============================] - 14s 44ms/step - loss: 0.2648 - root_mean_squared_error: 0.5118\n",
      "Epoch 33/50\n",
      "311/311 [==============================] - 14s 44ms/step - loss: 0.2043 - root_mean_squared_error: 0.4513\n",
      "Epoch 34/50\n",
      "311/311 [==============================] - 14s 44ms/step - loss: 0.2182 - root_mean_squared_error: 0.4665\n",
      "Epoch 35/50\n",
      "311/311 [==============================] - 14s 44ms/step - loss: 0.2480 - root_mean_squared_error: 0.4969\n",
      "Epoch 36/50\n",
      "311/311 [==============================] - 14s 44ms/step - loss: 0.2015 - root_mean_squared_error: 0.4479\n",
      "Epoch 37/50\n",
      "311/311 [==============================] - 14s 44ms/step - loss: 0.2012 - root_mean_squared_error: 0.4459\n",
      "Epoch 38/50\n",
      "311/311 [==============================] - 14s 44ms/step - loss: 0.2151 - root_mean_squared_error: 0.4633\n",
      "Epoch 39/50\n",
      "311/311 [==============================] - 14s 44ms/step - loss: 0.2041 - root_mean_squared_error: 0.4510\n",
      "Epoch 40/50\n",
      "311/311 [==============================] - 14s 43ms/step - loss: 0.1948 - root_mean_squared_error: 0.4406\n",
      "Epoch 41/50\n",
      "311/311 [==============================] - 14s 44ms/step - loss: 0.1860 - root_mean_squared_error: 0.4305\n",
      "Epoch 42/50\n",
      "311/311 [==============================] - 13s 43ms/step - loss: 0.2121 - root_mean_squared_error: 0.4602\n",
      "Epoch 43/50\n",
      "311/311 [==============================] - 14s 44ms/step - loss: 0.2242 - root_mean_squared_error: 0.4724\n",
      "Epoch 44/50\n",
      "311/311 [==============================] - 14s 44ms/step - loss: 0.2176 - root_mean_squared_error: 0.4655\n",
      "Epoch 45/50\n",
      "311/311 [==============================] - 14s 44ms/step - loss: 0.2156 - root_mean_squared_error: 0.4634\n",
      "Epoch 46/50\n",
      "311/311 [==============================] - 14s 44ms/step - loss: 0.2542 - root_mean_squared_error: 0.5000\n",
      "Epoch 47/50\n",
      "311/311 [==============================] - 14s 44ms/step - loss: 0.2119 - root_mean_squared_error: 0.4599\n",
      "Epoch 48/50\n",
      "311/311 [==============================] - 14s 43ms/step - loss: 0.2020 - root_mean_squared_error: 0.4482\n",
      "Epoch 49/50\n",
      "311/311 [==============================] - 13s 43ms/step - loss: 0.2012 - root_mean_squared_error: 0.4473\n",
      "Epoch 50/50\n",
      "311/311 [==============================] - 14s 44ms/step - loss: 0.1935 - root_mean_squared_error: 0.4383\n"
     ]
    }
   ],
   "source": [
    "history = model.fit(train_Feature, train_Label, epochs = epochs, batch_size = batch_size)"
   ]
  },
  {
   "cell_type": "code",
   "execution_count": 7,
   "id": "4270e2b4",
   "metadata": {},
   "outputs": [],
   "source": [
    "test_df = pd.read_csv(\"../data_dir/test_APPLE_0619.csv\")\n",
    "test_df[\"Medium\"] = test_df[[\"High\", \"Low\"]].mean(axis = 1)\n",
    "feature_test = test_df[[\"High\", \"Low\", \"Open\", \"Medium\"]]\n",
    "target_test = test_df[\"Close\"]\n",
    "test_Feature, test_Label = make_dataset(feature_test, target_test)\n"
   ]
  },
  {
   "cell_type": "code",
   "execution_count": 8,
   "id": "68b84730",
   "metadata": {},
   "outputs": [],
   "source": [
    "pred = model.predict(test_Feature)"
   ]
  },
  {
   "cell_type": "code",
   "execution_count": 9,
   "id": "b055913c",
   "metadata": {},
   "outputs": [
    {
     "data": {
      "text/plain": [
       "array([[126.87987 ],\n",
       "       [128.45859 ],\n",
       "       [130.09059 ],\n",
       "       [131.3145  ],\n",
       "       [132.68802 ],\n",
       "       [133.56708 ],\n",
       "       [134.15334 ],\n",
       "       [134.59976 ],\n",
       "       [134.73865 ],\n",
       "       [134.46056 ],\n",
       "       [134.07314 ],\n",
       "       [133.94696 ],\n",
       "       [134.16647 ],\n",
       "       [134.43346 ],\n",
       "       [134.68912 ],\n",
       "       [135.04965 ],\n",
       "       [134.72461 ],\n",
       "       [134.35202 ],\n",
       "       [133.30534 ],\n",
       "       [132.08218 ],\n",
       "       [130.78458 ],\n",
       "       [130.62009 ],\n",
       "       [129.92435 ],\n",
       "       [128.85922 ],\n",
       "       [127.5912  ],\n",
       "       [126.87114 ],\n",
       "       [126.377594],\n",
       "       [126.2846  ],\n",
       "       [126.50636 ],\n",
       "       [126.3983  ],\n",
       "       [126.53174 ],\n",
       "       [126.72553 ],\n",
       "       [126.88223 ],\n",
       "       [127.224266],\n",
       "       [127.7953  ],\n",
       "       [127.720215],\n",
       "       [127.425385],\n",
       "       [126.90474 ],\n",
       "       [126.31093 ],\n",
       "       [125.82437 ],\n",
       "       [125.5016  ],\n",
       "       [125.718124],\n",
       "       [126.248695],\n",
       "       [126.87291 ],\n",
       "       [127.444595],\n",
       "       [127.717766],\n",
       "       [128.23416 ],\n",
       "       [128.97314 ],\n",
       "       [129.57774 ]], dtype=float32)"
      ]
     },
     "execution_count": 9,
     "metadata": {},
     "output_type": "execute_result"
    }
   ],
   "source": [
    "pred"
   ]
  },
  {
   "cell_type": "code",
   "execution_count": 10,
   "id": "3d6cafd1",
   "metadata": {},
   "outputs": [
    {
     "data": {
      "text/plain": [
       "[<matplotlib.lines.Line2D at 0x7e9773e8d0>]"
      ]
     },
     "execution_count": 10,
     "metadata": {},
     "output_type": "execute_result"
    },
    {
     "data": {
      "image/png": "[encoded data removed]",
      "text/plain": [
       "<Figure size 432x288 with 1 Axes>"
      ]
     },
     "metadata": {
      "needs_background": "light"
     },
     "output_type": "display_data"
    }
   ],
   "source": [
    "plt.plot(range(len(pred)), pred)"
   ]
  },
  {
   "cell_type": "code",
   "execution_count": 11,
   "id": "0e35677d",
   "metadata": {},
   "outputs": [
    {
     "name": "stdout",
     "output_type": "stream",
     "text": [
      "INFO:tensorflow:Assets written to: my_model_APPLE/assets\n"
     ]
    }
   ],
   "source": [
    "model.save(\"../models/my_model_APPLE\")"
   ]
  }
 ],
 "metadata": {
  "kernelspec": {
   "display_name": "Python 3",
   "language": "python",
   "name": "python3"
  },
  "language_info": {
   "codemirror_mode": {
    "name": "ipython",
    "version": 3
   },
   "file_extension": ".py",
   "mimetype": "text/x-python",
   "name": "python",
   "nbconvert_exporter": "python",
   "pygments_lexer": "ipython3",
   "version": "3.6.9"
  }
 },
 "nbformat": 4,
 "nbformat_minor": 5
}
