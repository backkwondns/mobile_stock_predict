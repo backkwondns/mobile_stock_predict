{
 "cells": [
  {
   "cell_type": "code",
   "execution_count": 1,
   "id": "42fb5abc",
   "metadata": {},
   "outputs": [],
   "source": [
    "import pandas as pd\n",
    "import numpy as np\n",
    "import matplotlib.pyplot as plt\n",
    "import tensorflow as tf\n",
    "import tensorflow.keras as K\n",
    "from tensorflow.keras import models\n",
    "from tensorflow.keras import layers\n",
    "from sklearn.metrics import accuracy_score"
   ]
  },
  {
   "cell_type": "code",
   "execution_count": 2,
   "id": "4e6e66a1",
   "metadata": {},
   "outputs": [],
   "source": [
    "def make_dataset(data, label, window_size=5):\n",
    "    feature_list = []\n",
    "    label_list = []\n",
    "\n",
    "    for i in range(len(data) - window_size):\n",
    "        feature_list.append(np.array(data.iloc[i:i+window_size]))\n",
    "        label_list.append(np.array(label.iloc[i:i+window_size]))\n",
    "    return np.array(feature_list), np.array(label_list)"
   ]
  },
  {
   "cell_type": "code",
   "execution_count": 3,
   "id": "c3ae3550",
   "metadata": {},
   "outputs": [],
   "source": [
    "df = pd.read_csv(\"../data_dir/train_AMAZON_0619.csv\")\n",
    "df[\"Medium\"] = df[[\"High\", \"Low\"]].mean(axis = 1)\n",
    "feature_Df = df[[\"High\", \"Low\", \"Open\", \"Medium\"]]\n",
    "target_Df = df[\"Close\"]\n",
    "train_Feature, train_Label = make_dataset(feature_Df, target_Df)"
   ]
  },
  {
   "cell_type": "code",
   "execution_count": 4,
   "id": "ce3cafbb",
   "metadata": {},
   "outputs": [
    {
     "name": "stdout",
     "output_type": "stream",
     "text": [
      "WARNING:tensorflow:Layer lstm will not use cuDNN kernel since it doesn't meet the cuDNN kernel criteria. It will use generic GPU kernel as fallback when running on GPU\n",
      "Model: \"sequential\"\n",
      "_________________________________________________________________\n",
      "Layer (type)                 Output Shape              Param #   \n",
      "=================================================================\n",
      "lstm (LSTM)                  (None, 16)                1344      \n",
      "_________________________________________________________________\n",
      "dense (Dense)                (None, 1)                 17        \n",
      "=================================================================\n",
      "Total params: 1,361\n",
      "Trainable params: 1,361\n",
      "Non-trainable params: 0\n",
      "_________________________________________________________________\n"
     ]
    }
   ],
   "source": [
    "feature = 4\n",
    "timesteps = 5\n",
    "cell_size = 16\n",
    "#learning_rate = 0.1\n",
    "batch_size = 32\n",
    "epochs = 50\n",
    "\n",
    "\n",
    "input_shape = (timesteps, feature)\n",
    "model = models.Sequential()\n",
    "model.add(layers.LSTM(cell_size, input_shape = input_shape,activation=\"relu\", return_sequences = False))\n",
    "#model.add(layers.Dropout(0.2))\n",
    "#model.add(layers.LSTM(cell_size))\n",
    "#model.add(layers.Dropout(0.2))\n",
    "model.add(layers.Dense(1))\n",
    "optimizer = K.optimizers.Adam() #(lr = learning_rate)\n",
    "loss_func = K.losses.mse\n",
    "acc = K.metrics.RootMeanSquaredError\n",
    "model.compile(optimizer = optimizer, loss = loss_func, metrics = [K.metrics.RootMeanSquaredError()])\n",
    "\n",
    "model.summary()"
   ]
  },
  {
   "cell_type": "code",
   "execution_count": 5,
   "id": "0122ce85",
   "metadata": {},
   "outputs": [
    {
     "name": "stdout",
     "output_type": "stream",
     "text": [
      "Epoch 1/50\n",
      "188/188 [==============================] - 16s 44ms/step - loss: 7538.2579 - root_mean_squared_error: 72.2333\n",
      "Epoch 2/50\n",
      "188/188 [==============================] - 8s 45ms/step - loss: 287.0446 - root_mean_squared_error: 16.8768\n",
      "Epoch 3/50\n",
      "188/188 [==============================] - 8s 44ms/step - loss: 304.9860 - root_mean_squared_error: 17.4574\n",
      "Epoch 4/50\n",
      "188/188 [==============================] - 8s 44ms/step - loss: 282.4801 - root_mean_squared_error: 16.7816\n",
      "Epoch 5/50\n",
      "188/188 [==============================] - 8s 44ms/step - loss: 345.6376 - root_mean_squared_error: 18.5776\n",
      "Epoch 6/50\n",
      "188/188 [==============================] - 8s 44ms/step - loss: 292.6371 - root_mean_squared_error: 17.0965\n",
      "Epoch 7/50\n",
      "188/188 [==============================] - 8s 44ms/step - loss: 290.5386 - root_mean_squared_error: 16.9894\n",
      "Epoch 8/50\n",
      "188/188 [==============================] - 8s 44ms/step - loss: 302.6493 - root_mean_squared_error: 17.3914\n",
      "Epoch 9/50\n",
      "188/188 [==============================] - 8s 44ms/step - loss: 286.4763 - root_mean_squared_error: 16.8934\n",
      "Epoch 10/50\n",
      "188/188 [==============================] - 8s 44ms/step - loss: 278.6297 - root_mean_squared_error: 16.6584\n",
      "Epoch 11/50\n",
      "188/188 [==============================] - 8s 45ms/step - loss: 317.2587 - root_mean_squared_error: 17.7980\n",
      "Epoch 12/50\n",
      "188/188 [==============================] - 8s 44ms/step - loss: 288.9352 - root_mean_squared_error: 16.9883\n",
      "Epoch 13/50\n",
      "188/188 [==============================] - 8s 44ms/step - loss: 730.1943 - root_mean_squared_error: 25.9185\n",
      "Epoch 14/50\n",
      "188/188 [==============================] - 8s 45ms/step - loss: 292.3610 - root_mean_squared_error: 17.0687\n",
      "Epoch 15/50\n",
      "188/188 [==============================] - 8s 45ms/step - loss: 281.4648 - root_mean_squared_error: 16.7695\n",
      "Epoch 16/50\n",
      "188/188 [==============================] - 8s 43ms/step - loss: 286.4318 - root_mean_squared_error: 16.8889\n",
      "Epoch 17/50\n",
      "188/188 [==============================] - 8s 43ms/step - loss: 288.5562 - root_mean_squared_error: 16.9736\n",
      "Epoch 18/50\n",
      "188/188 [==============================] - 8s 44ms/step - loss: 286.6720 - root_mean_squared_error: 16.9155\n",
      "Epoch 19/50\n",
      "188/188 [==============================] - 8s 44ms/step - loss: 280.3193 - root_mean_squared_error: 16.7225\n",
      "Epoch 20/50\n",
      "188/188 [==============================] - 8s 44ms/step - loss: 286.1109 - root_mean_squared_error: 16.9089\n",
      "Epoch 21/50\n",
      "188/188 [==============================] - 8s 44ms/step - loss: 293.1486 - root_mean_squared_error: 17.0980\n",
      "Epoch 22/50\n",
      "188/188 [==============================] - 8s 43ms/step - loss: 260.3656 - root_mean_squared_error: 16.1241\n",
      "Epoch 23/50\n",
      "188/188 [==============================] - 8s 44ms/step - loss: 257.5590 - root_mean_squared_error: 16.0145\n",
      "Epoch 24/50\n",
      "188/188 [==============================] - 8s 44ms/step - loss: 253.1710 - root_mean_squared_error: 15.8987\n",
      "Epoch 25/50\n",
      "188/188 [==============================] - 8s 44ms/step - loss: 315.8833 - root_mean_squared_error: 17.7593\n",
      "Epoch 26/50\n",
      "188/188 [==============================] - 8s 44ms/step - loss: 281.2242 - root_mean_squared_error: 16.7627\n",
      "Epoch 27/50\n",
      "188/188 [==============================] - 8s 44ms/step - loss: 254.2372 - root_mean_squared_error: 15.9082\n",
      "Epoch 28/50\n",
      "188/188 [==============================] - 8s 44ms/step - loss: 236.9416 - root_mean_squared_error: 15.3239\n",
      "Epoch 29/50\n",
      "188/188 [==============================] - 8s 44ms/step - loss: 311.9811 - root_mean_squared_error: 17.6442\n",
      "Epoch 30/50\n",
      "188/188 [==============================] - 8s 45ms/step - loss: 271.2362 - root_mean_squared_error: 16.4518\n",
      "Epoch 31/50\n",
      "188/188 [==============================] - 8s 44ms/step - loss: 281.6369 - root_mean_squared_error: 16.7723\n",
      "Epoch 32/50\n",
      "188/188 [==============================] - 8s 44ms/step - loss: 304.1726 - root_mean_squared_error: 17.4264\n",
      "Epoch 33/50\n",
      "188/188 [==============================] - 8s 44ms/step - loss: 261.5255 - root_mean_squared_error: 16.1545\n",
      "Epoch 34/50\n",
      "188/188 [==============================] - 8s 44ms/step - loss: 272.6602 - root_mean_squared_error: 16.4842\n",
      "Epoch 35/50\n",
      "188/188 [==============================] - 8s 43ms/step - loss: 264.4723 - root_mean_squared_error: 16.2405\n",
      "Epoch 36/50\n",
      "188/188 [==============================] - 8s 44ms/step - loss: 281.3762 - root_mean_squared_error: 16.7625\n",
      "Epoch 37/50\n",
      "188/188 [==============================] - 8s 44ms/step - loss: 371.2210 - root_mean_squared_error: 19.2300\n",
      "Epoch 38/50\n",
      "188/188 [==============================] - 8s 44ms/step - loss: 267.8594 - root_mean_squared_error: 16.3528\n",
      "Epoch 39/50\n",
      "188/188 [==============================] - 8s 44ms/step - loss: 265.3852 - root_mean_squared_error: 16.2437\n",
      "Epoch 40/50\n",
      "188/188 [==============================] - 8s 44ms/step - loss: 273.6067 - root_mean_squared_error: 16.5244\n",
      "Epoch 41/50\n",
      "188/188 [==============================] - 8s 44ms/step - loss: 250.6206 - root_mean_squared_error: 15.8149\n",
      "Epoch 42/50\n",
      "188/188 [==============================] - 8s 44ms/step - loss: 281.6228 - root_mean_squared_error: 16.7632\n",
      "Epoch 43/50\n",
      "188/188 [==============================] - 8s 44ms/step - loss: 270.6497 - root_mean_squared_error: 16.4342\n",
      "Epoch 44/50\n",
      "188/188 [==============================] - 8s 44ms/step - loss: 222.2340 - root_mean_squared_error: 14.8251\n",
      "Epoch 45/50\n",
      "188/188 [==============================] - 8s 43ms/step - loss: 253.5596 - root_mean_squared_error: 15.9126\n",
      "Epoch 46/50\n",
      "188/188 [==============================] - 8s 43ms/step - loss: 232.3011 - root_mean_squared_error: 15.2228\n",
      "Epoch 47/50\n",
      "188/188 [==============================] - 8s 44ms/step - loss: 251.6115 - root_mean_squared_error: 15.8381\n",
      "Epoch 48/50\n",
      "188/188 [==============================] - 8s 45ms/step - loss: 280.0057 - root_mean_squared_error: 16.7057\n",
      "Epoch 49/50\n",
      "188/188 [==============================] - 8s 44ms/step - loss: 264.5166 - root_mean_squared_error: 16.2352\n",
      "Epoch 50/50\n",
      "188/188 [==============================] - 8s 44ms/step - loss: 273.7084 - root_mean_squared_error: 16.5252\n"
     ]
    }
   ],
   "source": [
    "history = model.fit(train_Feature, train_Label, epochs = epochs, batch_size = batch_size)"
   ]
  },
  {
   "cell_type": "code",
   "execution_count": 6,
   "id": "4270e2b4",
   "metadata": {},
   "outputs": [],
   "source": [
    "test_df = pd.read_csv(\"../data_dir/test_AMAZON_0619.csv\")\n",
    "test_df[\"Medium\"] = test_df[[\"High\", \"Low\"]].mean(axis = 1)\n",
    "feature_test = test_df[[\"High\", \"Low\", \"Open\", \"Medium\"]]\n",
    "target_test = test_df[\"Close\"]\n",
    "test_Feature, test_Label = make_dataset(feature_test, target_test)\n"
   ]
  },
  {
   "cell_type": "code",
   "execution_count": 7,
   "id": "68b84730",
   "metadata": {},
   "outputs": [],
   "source": [
    "pred = model.predict(test_Feature)"
   ]
  },
  {
   "cell_type": "code",
   "execution_count": 8,
   "id": "b055913c",
   "metadata": {},
   "outputs": [
    {
     "data": {
      "text/plain": [
       "array([[3210.9272],\n",
       "       [3245.128 ],\n",
       "       [3280.391 ],\n",
       "       [3316.0833],\n",
       "       [3335.6218],\n",
       "       [3344.7466],\n",
       "       [3354.6367],\n",
       "       [3363.1567],\n",
       "       [3351.2683],\n",
       "       [3332.8381],\n",
       "       [3337.9778],\n",
       "       [3323.7212],\n",
       "       [3329.3013],\n",
       "       [3353.1086],\n",
       "       [3373.9678],\n",
       "       [3406.7021],\n",
       "       [3445.33  ],\n",
       "       [3450.62  ],\n",
       "       [3412.8228],\n",
       "       [3393.2383],\n",
       "       [3341.6438],\n",
       "       [3314.353 ],\n",
       "       [3274.6316],\n",
       "       [3228.175 ],\n",
       "       [3206.0127],\n",
       "       [3186.9585],\n",
       "       [3171.7144],\n",
       "       [3182.2483],\n",
       "       [3209.0662],\n",
       "       [3194.4397],\n",
       "       [3211.7727],\n",
       "       [3216.463 ],\n",
       "       [3208.7585],\n",
       "       [3214.0156],\n",
       "       [3226.566 ],\n",
       "       [3221.7532],\n",
       "       [3218.6362],\n",
       "       [3221.4922],\n",
       "       [3209.097 ],\n",
       "       [3193.7485],\n",
       "       [3188.9285],\n",
       "       [3178.4238],\n",
       "       [3189.7285],\n",
       "       [3204.2234],\n",
       "       [3226.122 ],\n",
       "       [3258.232 ],\n",
       "       [3283.6196],\n",
       "       [3311.9558],\n",
       "       [3335.5017],\n",
       "       [3365.5615]], dtype=float32)"
      ]
     },
     "execution_count": 8,
     "metadata": {},
     "output_type": "execute_result"
    }
   ],
   "source": [
    "pred"
   ]
  },
  {
   "cell_type": "code",
   "execution_count": 9,
   "id": "3d6cafd1",
   "metadata": {},
   "outputs": [
    {
     "data": {
      "text/plain": [
       "[<matplotlib.lines.Line2D at 0x7ed40bf400>]"
      ]
     },
     "execution_count": 9,
     "metadata": {},
     "output_type": "execute_result"
    },
    {
     "data": {
      "image/png": "[encoded data removed]",
      "text/plain": [
       "<Figure size 432x288 with 1 Axes>"
      ]
     },
     "metadata": {
      "needs_background": "light"
     },
     "output_type": "display_data"
    }
   ],
   "source": [
    "plt.plot(range(len(pred)), pred)"
   ]
  },
  {
   "cell_type": "code",
   "execution_count": 10,
   "id": "0e35677d",
   "metadata": {},
   "outputs": [
    {
     "name": "stdout",
     "output_type": "stream",
     "text": [
      "INFO:tensorflow:Assets written to: ../models/my_model_AMAZON/assets\n"
     ]
    }
   ],
   "source": [
    "model.save(\"../models/my_model_AMAZON\")"
   ]
  }
 ],
 "metadata": {
  "kernelspec": {
   "display_name": "Python 3",
   "language": "python",
   "name": "python3"
  },
  "language_info": {
   "codemirror_mode": {
    "name": "ipython",
    "version": 3
   },
   "file_extension": ".py",
   "mimetype": "text/x-python",
   "name": "python",
   "nbconvert_exporter": "python",
   "pygments_lexer": "ipython3",
   "version": "3.6.9"
  }
 },
 "nbformat": 4,
 "nbformat_minor": 5
}
