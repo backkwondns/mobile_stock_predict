{
 "cells": [
  {
   "cell_type": "code",
   "execution_count": 3,
   "id": "42fb5abc",
   "metadata": {},
   "outputs": [],
   "source": [
    "import pandas as pd\n",
    "import numpy as np\n",
    "import matplotlib.pyplot as plt\n",
    "import tensorflow as tf\n",
    "import tensorflow.keras as K\n",
    "from tensorflow.keras import models\n",
    "from tensorflow.keras import layers\n",
    "from sklearn.metrics import accuracy_score"
   ]
  },
  {
   "cell_type": "code",
   "execution_count": 4,
   "id": "4e6e66a1",
   "metadata": {},
   "outputs": [],
   "source": [
    "def make_dataset(data, label, window_size=5):\n",
    "    feature_list = []\n",
    "    label_list = []\n",
    "\n",
    "    for i in range(len(data) - window_size):\n",
    "        feature_list.append(np.array(data.iloc[i:i+window_size]))\n",
    "        label_list.append(np.array(label.iloc[i:i+window_size]))\n",
    "    return np.array(feature_list), np.array(label_list)"
   ]
  },
  {
   "cell_type": "code",
   "execution_count": 5,
   "id": "c3ae3550",
   "metadata": {},
   "outputs": [],
   "source": [
    "df = pd.read_csv(\"../data_dir/train_NASDAQ_0616.csv\")\n",
    "df[\"Medium\"] = df[[\"High\", \"Low\"]].mean(axis = 1)\n",
    "feature_Df = df[[\"High\", \"Low\", \"Open\", \"Medium\"]]\n",
    "target_Df = df[\"Close\"]\n",
    "train_Feature, train_Label = make_dataset(feature_Df, target_Df)"
   ]
  },
  {
   "cell_type": "code",
   "execution_count": 23,
   "id": "ce3cafbb",
   "metadata": {},
   "outputs": [
    {
     "name": "stdout",
     "output_type": "stream",
     "text": [
      "WARNING:tensorflow:Layer lstm_4 will not use cuDNN kernel since it doesn't meet the cuDNN kernel criteria. It will use generic GPU kernel as fallback when running on GPU\n",
      "Model: \"sequential_4\"\n",
      "_________________________________________________________________\n",
      "Layer (type)                 Output Shape              Param #   \n",
      "=================================================================\n",
      "lstm_4 (LSTM)                (None, 32)                4736      \n",
      "_________________________________________________________________\n",
      "dense_4 (Dense)              (None, 1)                 33        \n",
      "=================================================================\n",
      "Total params: 4,769\n",
      "Trainable params: 4,769\n",
      "Non-trainable params: 0\n",
      "_________________________________________________________________\n"
     ]
    }
   ],
   "source": [
    "feature = 4\n",
    "timesteps = 5\n",
    "cell_size = 32\n",
    "#learning_rate = 0.1\n",
    "batch_size = 16\n",
    "epochs = 50\n",
    "\n",
    "\n",
    "input_shape = (timesteps, feature)\n",
    "model = models.Sequential()\n",
    "model.add(layers.LSTM(cell_size, input_shape = input_shape, activation=\"relu\", return_sequences = False))\n",
    "#model.add(layers.Dropout(0.2))\n",
    "#model.add(layers.LSTM(cell_size))\n",
    "#model.add(layers.Dropout(0.2))\n",
    "model.add(layers.Dense(1))\n",
    "optimizer = K.optimizers.Adam() #(lr = learning_rate)\n",
    "loss_func = K.losses.mse\n",
    "acc = K.metrics.RootMeanSquaredError\n",
    "model.compile(optimizer = optimizer, loss = loss_func, metrics = [K.metrics.RootMeanSquaredError()])\n",
    "\n",
    "model.summary()"
   ]
  },
  {
   "cell_type": "code",
   "execution_count": 24,
   "id": "0122ce85",
   "metadata": {},
   "outputs": [
    {
     "name": "stdout",
     "output_type": "stream",
     "text": [
      "Epoch 1/50\n",
      "622/622 [==============================] - 41s 50ms/step - loss: 1761109.6993 - root_mean_squared_error: 1145.8152\n",
      "Epoch 2/50\n",
      "622/622 [==============================] - 31s 49ms/step - loss: 9323.2070 - root_mean_squared_error: 93.4826\n",
      "Epoch 3/50\n",
      "622/622 [==============================] - 30s 49ms/step - loss: 2544.3931 - root_mean_squared_error: 50.3846\n",
      "Epoch 4/50\n",
      "622/622 [==============================] - 31s 50ms/step - loss: 2379.3477 - root_mean_squared_error: 48.7440\n",
      "Epoch 5/50\n",
      "622/622 [==============================] - 31s 49ms/step - loss: 2531.7449 - root_mean_squared_error: 50.2508 4s -\n",
      "Epoch 6/50\n",
      "622/622 [==============================] - 27s 44ms/step - loss: 2367.9635 - root_mean_squared_error: 48.6404\n",
      "Epoch 7/50\n",
      "622/622 [==============================] - 27s 44ms/step - loss: 2572.1541 - root_mean_squared_error: 50.6693\n",
      "Epoch 8/50\n",
      "622/622 [==============================] - 27s 43ms/step - loss: 2573.9951 - root_mean_squared_error: 50.6608\n",
      "Epoch 9/50\n",
      "622/622 [==============================] - 27s 43ms/step - loss: 2593.9620 - root_mean_squared_error: 50.8947\n",
      "Epoch 10/50\n",
      "622/622 [==============================] - 27s 43ms/step - loss: 2809.3078 - root_mean_squared_error: 52.9311\n",
      "Epoch 11/50\n",
      "622/622 [==============================] - 27s 44ms/step - loss: 2755.6462 - root_mean_squared_error: 52.3262\n",
      "Epoch 12/50\n",
      "622/622 [==============================] - 27s 43ms/step - loss: 2272.5202 - root_mean_squared_error: 47.6418\n",
      "Epoch 13/50\n",
      "622/622 [==============================] - 27s 43ms/step - loss: 2289.2983 - root_mean_squared_error: 47.7807\n",
      "Epoch 14/50\n",
      "622/622 [==============================] - 27s 43ms/step - loss: 2277.3010 - root_mean_squared_error: 47.6684\n",
      "Epoch 15/50\n",
      "622/622 [==============================] - 27s 44ms/step - loss: 2530.5558 - root_mean_squared_error: 50.0542\n",
      "Epoch 16/50\n",
      "622/622 [==============================] - 27s 43ms/step - loss: 2298.2801 - root_mean_squared_error: 47.8710\n",
      "Epoch 17/50\n",
      "622/622 [==============================] - 27s 43ms/step - loss: 2302.1550 - root_mean_squared_error: 47.8983\n",
      "Epoch 18/50\n",
      "622/622 [==============================] - 27s 43ms/step - loss: 1986.6634 - root_mean_squared_error: 44.5322\n",
      "Epoch 19/50\n",
      "622/622 [==============================] - 27s 43ms/step - loss: 2123.3918 - root_mean_squared_error: 46.0218\n",
      "Epoch 20/50\n",
      "622/622 [==============================] - 27s 44ms/step - loss: 2050.9355 - root_mean_squared_error: 45.2727\n",
      "Epoch 21/50\n",
      "622/622 [==============================] - 27s 44ms/step - loss: 2245.5309 - root_mean_squared_error: 47.3748\n",
      "Epoch 22/50\n",
      "622/622 [==============================] - 27s 43ms/step - loss: 2585.7023 - root_mean_squared_error: 50.5926\n",
      "Epoch 23/50\n",
      "622/622 [==============================] - 27s 44ms/step - loss: 2182.3770 - root_mean_squared_error: 46.5790\n",
      "Epoch 24/50\n",
      "622/622 [==============================] - 27s 44ms/step - loss: 1896.8935 - root_mean_squared_error: 43.5255\n",
      "Epoch 25/50\n",
      "622/622 [==============================] - 27s 44ms/step - loss: 1875.7866 - root_mean_squared_error: 43.2947\n",
      "Epoch 26/50\n",
      "622/622 [==============================] - 27s 44ms/step - loss: 1909.1762 - root_mean_squared_error: 43.6582\n",
      "Epoch 27/50\n",
      "622/622 [==============================] - 27s 43ms/step - loss: 2167.8837 - root_mean_squared_error: 46.5308\n",
      "Epoch 28/50\n",
      "622/622 [==============================] - 27s 43ms/step - loss: 2260.9393 - root_mean_squared_error: 47.5138\n",
      "Epoch 29/50\n",
      "622/622 [==============================] - 27s 44ms/step - loss: 2012.9303 - root_mean_squared_error: 44.7874\n",
      "Epoch 30/50\n",
      "622/622 [==============================] - 27s 43ms/step - loss: 2029.1056 - root_mean_squared_error: 45.0127\n",
      "Epoch 31/50\n",
      "622/622 [==============================] - 27s 43ms/step - loss: 1987.9315 - root_mean_squared_error: 44.5513\n",
      "Epoch 32/50\n",
      "622/622 [==============================] - 27s 44ms/step - loss: 2043.1848 - root_mean_squared_error: 45.1801\n",
      "Epoch 33/50\n",
      "622/622 [==============================] - 27s 44ms/step - loss: 2441.7258 - root_mean_squared_error: 49.2557\n",
      "Epoch 34/50\n",
      "622/622 [==============================] - 27s 44ms/step - loss: 2248.4810 - root_mean_squared_error: 47.3637\n",
      "Epoch 35/50\n",
      "622/622 [==============================] - 27s 44ms/step - loss: 2135.4757 - root_mean_squared_error: 46.1684\n",
      "Epoch 36/50\n",
      "622/622 [==============================] - 27s 44ms/step - loss: 2242.6307 - root_mean_squared_error: 47.3077\n",
      "Epoch 37/50\n",
      "622/622 [==============================] - 27s 43ms/step - loss: 2142.1804 - root_mean_squared_error: 46.2116\n",
      "Epoch 38/50\n",
      "622/622 [==============================] - 27s 44ms/step - loss: 1868.6001 - root_mean_squared_error: 43.2040\n",
      "Epoch 39/50\n",
      "622/622 [==============================] - 27s 44ms/step - loss: 2269.2704 - root_mean_squared_error: 47.5572\n",
      "Epoch 40/50\n",
      "622/622 [==============================] - 27s 44ms/step - loss: 1962.8664 - root_mean_squared_error: 44.2666\n",
      "Epoch 41/50\n",
      "622/622 [==============================] - 27s 44ms/step - loss: 1952.3783 - root_mean_squared_error: 44.1086\n",
      "Epoch 42/50\n",
      "622/622 [==============================] - 27s 43ms/step - loss: 2021.0146 - root_mean_squared_error: 44.9271\n",
      "Epoch 43/50\n",
      "622/622 [==============================] - 27s 44ms/step - loss: 2058.1584 - root_mean_squared_error: 45.3385\n",
      "Epoch 44/50\n",
      "622/622 [==============================] - 27s 44ms/step - loss: 2102.7510 - root_mean_squared_error: 45.8437\n",
      "Epoch 45/50\n",
      "622/622 [==============================] - 27s 43ms/step - loss: 2102.3658 - root_mean_squared_error: 45.8300\n",
      "Epoch 46/50\n",
      "622/622 [==============================] - 27s 44ms/step - loss: 2942.2185 - root_mean_squared_error: 53.7656\n",
      "Epoch 47/50\n",
      "622/622 [==============================] - 27s 44ms/step - loss: 2009.5041 - root_mean_squared_error: 44.7848\n",
      "Epoch 48/50\n",
      "622/622 [==============================] - 27s 44ms/step - loss: 1997.1061 - root_mean_squared_error: 44.6573\n",
      "Epoch 49/50\n",
      "622/622 [==============================] - 27s 44ms/step - loss: 1985.0161 - root_mean_squared_error: 44.4872\n",
      "Epoch 50/50\n",
      "622/622 [==============================] - 27s 43ms/step - loss: 2013.5979 - root_mean_squared_error: 44.8588\n"
     ]
    }
   ],
   "source": [
    "history =z model.fit(train_Feature, train_Label, epochs = epochs, batch_size = batch_size)"
   ]
  },
  {
   "cell_type": "code",
   "execution_count": 8,
   "id": "4270e2b4",
   "metadata": {},
   "outputs": [],
   "source": [
    "test_df = pd.read_csv(\"./test_NASDAQ_0616.csv\")\n",
    "test_df[\"Medium\"] = test_df[[\"High\", \"Low\"]].mean(axis = 1)\n",
    "feature_test = test_df[[\"High\", \"Low\", \"Open\", \"Medium\"]]\n",
    "target_test = test_df[\"Close\"]\n",
    "test_Feature, test_Label = make_dataset(feature_test, target_test)\n"
   ]
  },
  {
   "cell_type": "code",
   "execution_count": 25,
   "id": "68b84730",
   "metadata": {},
   "outputs": [],
   "source": [
    "pred = model.predict(test_Feature)"
   ]
  },
  {
   "cell_type": "code",
   "execution_count": 26,
   "id": "b055913c",
   "metadata": {
    "scrolled": true
   },
   "outputs": [
    {
     "data": {
      "text/plain": [
       "array([[13617.137 ],\n",
       "       [13682.68  ],\n",
       "       [13718.459 ],\n",
       "       [13773.469 ],\n",
       "       [13818.705 ],\n",
       "       [13862.973 ],\n",
       "       [13902.43  ],\n",
       "       [13908.703 ],\n",
       "       [13867.729 ],\n",
       "       [13835.142 ],\n",
       "       [13829.457 ],\n",
       "       [13828.792 ],\n",
       "       [13875.219 ],\n",
       "       [13936.667 ],\n",
       "       [13977.608 ],\n",
       "       [14007.115 ],\n",
       "       [14004.337 ],\n",
       "       [13977.2705],\n",
       "       [13853.8955],\n",
       "       [13770.604 ],\n",
       "       [13660.244 ],\n",
       "       [13647.803 ],\n",
       "       [13570.09  ],\n",
       "       [13446.06  ],\n",
       "       [13329.913 ],\n",
       "       [13247.579 ],\n",
       "       [13213.78  ],\n",
       "       [13194.261 ],\n",
       "       [13234.269 ],\n",
       "       [13204.945 ],\n",
       "       [13276.858 ],\n",
       "       [13340.263 ],\n",
       "       [13404.353 ],\n",
       "       [13472.187 ],\n",
       "       [13563.052 ],\n",
       "       [13615.716 ],\n",
       "       [13658.711 ],\n",
       "       [13682.619 ],\n",
       "       [13683.786 ],\n",
       "       [13651.001 ],\n",
       "       [13663.299 ],\n",
       "       [13688.421 ],\n",
       "       [13729.438 ],\n",
       "       [13779.719 ],\n",
       "       [13835.251 ]], dtype=float32)"
      ]
     },
     "execution_count": 26,
     "metadata": {},
     "output_type": "execute_result"
    }
   ],
   "source": [
    "pred"
   ]
  },
  {
   "cell_type": "code",
   "execution_count": 30,
   "id": "822cb5a6",
   "metadata": {},
   "outputs": [
    {
     "name": "stderr",
     "output_type": "stream",
     "text": [
      "ERROR:root:Internal Python error in the inspect module.\n",
      "Below is the traceback from this internal error.\n",
      "\n",
      "\n",
      "KeyboardInterrupt\n",
      "\n"
     ]
    }
   ],
   "source": [
    "model.save(\"../models/my_model_NASDAQ\")"
   ]
  }
 ],
 "metadata": {
  "kernelspec": {
   "display_name": "Python 3",
   "language": "python",
   "name": "python3"
  },
  "language_info": {
   "codemirror_mode": {
    "name": "ipython",
    "version": 3
   },
   "file_extension": ".py",
   "mimetype": "text/x-python",
   "name": "python",
   "nbconvert_exporter": "python",
   "pygments_lexer": "ipython3",
   "version": "3.6.9"
  }
 },
 "nbformat": 4,
 "nbformat_minor": 5
}
