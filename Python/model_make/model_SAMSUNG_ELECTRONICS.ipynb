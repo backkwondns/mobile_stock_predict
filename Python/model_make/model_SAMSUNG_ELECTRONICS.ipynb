{
 "cells": [
  {
   "cell_type": "code",
   "execution_count": 1,
   "id": "42fb5abc",
   "metadata": {},
   "outputs": [],
   "source": [
    "import pandas as pd\n",
    "import numpy as np\n",
    "import matplotlib.pyplot as plt\n",
    "import tensorflow as tf\n",
    "import tensorflow.keras as K\n",
    "from tensorflow.keras import models\n",
    "from tensorflow.keras import layers\n",
    "from sklearn.metrics import accuracy_score"
   ]
  },
  {
   "cell_type": "code",
   "execution_count": 2,
   "id": "4e6e66a1",
   "metadata": {},
   "outputs": [],
   "source": [
    "def make_dataset(data, label, window_size=5):\n",
    "    feature_list = []\n",
    "    label_list = []\n",
    "\n",
    "    for i in range(len(data) - window_size):\n",
    "        feature_list.append(np.array(data.iloc[i:i+window_size]))\n",
    "        label_list.append(np.array(label.iloc[i:i+window_size]))\n",
    "    return np.array(feature_list), np.array(label_list)"
   ]
  },
  {
   "cell_type": "code",
   "execution_count": 3,
   "id": "15b965f1",
   "metadata": {},
   "outputs": [],
   "source": [
    "target_stock = \"SAMSUNG_SDI\""
   ]
  },
  {
   "cell_type": "code",
   "execution_count": 4,
   "id": "c3ae3550",
   "metadata": {},
   "outputs": [],
   "source": [
    "df = pd.read_csv(f\"../data_dir/train_{target_stock}_0619.csv\")\n",
    "df[\"Medium\"] = df[[\"High\", \"Low\"]].mean(axis = 1)\n",
    "feature_Df = df[[\"High\", \"Low\", \"Open\", \"Medium\"]]\n",
    "target_Df = df[\"Close\"]\n",
    "train_Feature, train_Label = make_dataset(feature_Df, target_Df)"
   ]
  },
  {
   "cell_type": "code",
   "execution_count": 5,
   "id": "ce3cafbb",
   "metadata": {},
   "outputs": [
    {
     "name": "stdout",
     "output_type": "stream",
     "text": [
      "WARNING:tensorflow:Layer lstm will not use cuDNN kernel since it doesn't meet the cuDNN kernel criteria. It will use generic GPU kernel as fallback when running on GPU\n",
      "Model: \"sequential\"\n",
      "_________________________________________________________________\n",
      "Layer (type)                 Output Shape              Param #   \n",
      "=================================================================\n",
      "lstm (LSTM)                  (None, 16)                1344      \n",
      "_________________________________________________________________\n",
      "dense (Dense)                (None, 1)                 17        \n",
      "=================================================================\n",
      "Total params: 1,361\n",
      "Trainable params: 1,361\n",
      "Non-trainable params: 0\n",
      "_________________________________________________________________\n"
     ]
    }
   ],
   "source": [
    "feature = 4\n",
    "timesteps = 5\n",
    "cell_size = 16\n",
    "#learning_rate = 0.1\n",
    "batch_size = 32\n",
    "epochs = 50\n",
    "\n",
    "\n",
    "input_shape = (timesteps, feature)\n",
    "model = models.Sequential()\n",
    "model.add(layers.LSTM(cell_size, input_shape = input_shape,activation=\"relu\", return_sequences = False))\n",
    "#model.add(layers.Dropout(0.2))\n",
    "#model.add(layers.LSTM(cell_size))\n",
    "#model.add(layers.Dropout(0.2))\n",
    "model.add(layers.Dense(1))\n",
    "optimizer = K.optimizers.Adam() #(lr = learning_rate)\n",
    "loss_func = K.losses.mse\n",
    "acc = K.metrics.RootMeanSquaredError\n",
    "model.compile(optimizer = optimizer, loss = loss_func, metrics = [K.metrics.RootMeanSquaredError()])\n",
    "\n",
    "model.summary()"
   ]
  },
  {
   "cell_type": "code",
   "execution_count": 6,
   "id": "0122ce85",
   "metadata": {},
   "outputs": [
    {
     "name": "stdout",
     "output_type": "stream",
     "text": [
      "Epoch 1/50\n",
      "167/167 [==============================] - 15s 45ms/step - loss: 20401859200.0000 - root_mean_squared_error: 137365.3762\n",
      "Epoch 2/50\n",
      "167/167 [==============================] - 7s 45ms/step - loss: 24796224.6310 - root_mean_squared_error: 4975.9202\n",
      "Epoch 3/50\n",
      "167/167 [==============================] - 8s 45ms/step - loss: 23972032.4048 - root_mean_squared_error: 4889.1015\n",
      "Epoch 4/50\n",
      "167/167 [==============================] - 7s 45ms/step - loss: 23639635.9881 - root_mean_squared_error: 4859.4872\n",
      "Epoch 5/50\n",
      "167/167 [==============================] - 8s 45ms/step - loss: 21404699.3452 - root_mean_squared_error: 4620.6896\n",
      "Epoch 6/50\n",
      "167/167 [==============================] - 8s 45ms/step - loss: 23502281.7619 - root_mean_squared_error: 4839.0829\n",
      "Epoch 7/50\n",
      "167/167 [==============================] - 7s 44ms/step - loss: 21981981.8750 - root_mean_squared_error: 4685.2388\n",
      "Epoch 8/50\n",
      "167/167 [==============================] - 7s 45ms/step - loss: 21117391.0238 - root_mean_squared_error: 4592.6279\n",
      "Epoch 9/50\n",
      "167/167 [==============================] - 7s 45ms/step - loss: 23064089.6429 - root_mean_squared_error: 4795.5953\n",
      "Epoch 10/50\n",
      "167/167 [==============================] - 8s 46ms/step - loss: 21396392.6667 - root_mean_squared_error: 4618.5656: 1s - loss: 21159803.0720 - root_mea\n",
      "Epoch 11/50\n",
      "167/167 [==============================] - 8s 46ms/step - loss: 22668545.3393 - root_mean_squared_error: 4751.2242\n",
      "Epoch 12/50\n",
      "167/167 [==============================] - 8s 45ms/step - loss: 22514700.4137 - root_mean_squared_error: 4738.5132\n",
      "Epoch 13/50\n",
      "167/167 [==============================] - 8s 46ms/step - loss: 25192760.6250 - root_mean_squared_error: 5004.9074\n",
      "Epoch 14/50\n",
      "167/167 [==============================] - 8s 46ms/step - loss: 23637528.1667 - root_mean_squared_error: 4848.2371\n",
      "Epoch 15/50\n",
      "167/167 [==============================] - 8s 45ms/step - loss: 23460203.4643 - root_mean_squared_error: 4834.4914\n",
      "Epoch 16/50\n",
      "167/167 [==============================] - 8s 45ms/step - loss: 22121813.6667 - root_mean_squared_error: 4697.5000\n",
      "Epoch 17/50\n",
      "167/167 [==============================] - 8s 45ms/step - loss: 23462596.0952 - root_mean_squared_error: 4816.5341\n",
      "Epoch 18/50\n",
      "167/167 [==============================] - 7s 45ms/step - loss: 20281599.0119 - root_mean_squared_error: 4493.8322\n",
      "Epoch 19/50\n",
      "167/167 [==============================] - 8s 45ms/step - loss: 21243629.8452 - root_mean_squared_error: 4604.6851\n",
      "Epoch 20/50\n",
      "167/167 [==============================] - 8s 46ms/step - loss: 23350305.1190 - root_mean_squared_error: 4830.0741\n",
      "Epoch 21/50\n",
      "167/167 [==============================] - 8s 46ms/step - loss: 21410166.1310 - root_mean_squared_error: 4623.0020\n",
      "Epoch 22/50\n",
      "167/167 [==============================] - 8s 46ms/step - loss: 21500174.0000 - root_mean_squared_error: 4634.7426\n",
      "Epoch 23/50\n",
      "167/167 [==============================] - 8s 45ms/step - loss: 19925596.2381 - root_mean_squared_error: 4452.3687\n",
      "Epoch 24/50\n",
      "167/167 [==============================] - 8s 45ms/step - loss: 21932353.1071 - root_mean_squared_error: 4678.7777\n",
      "Epoch 25/50\n",
      "167/167 [==============================] - 7s 45ms/step - loss: 21650823.7381 - root_mean_squared_error: 4648.0193\n",
      "Epoch 26/50\n",
      "167/167 [==============================] - 8s 45ms/step - loss: 20521994.0238 - root_mean_squared_error: 4524.4399\n",
      "Epoch 27/50\n",
      "167/167 [==============================] - 8s 46ms/step - loss: 22277020.5714 - root_mean_squared_error: 4713.2167\n",
      "Epoch 28/50\n",
      "167/167 [==============================] - 8s 45ms/step - loss: 21324210.5179 - root_mean_squared_error: 4616.1314\n",
      "Epoch 29/50\n",
      "167/167 [==============================] - 7s 44ms/step - loss: 21408726.9286 - root_mean_squared_error: 4622.6790\n",
      "Epoch 30/50\n",
      "167/167 [==============================] - 7s 45ms/step - loss: 20892986.2143 - root_mean_squared_error: 4568.4092\n",
      "Epoch 31/50\n",
      "167/167 [==============================] - 8s 45ms/step - loss: 21361564.0417 - root_mean_squared_error: 4619.8211\n",
      "Epoch 32/50\n",
      "167/167 [==============================] - 8s 45ms/step - loss: 22391472.2679 - root_mean_squared_error: 4719.0604\n",
      "Epoch 33/50\n",
      "167/167 [==============================] - 8s 45ms/step - loss: 22728019.0655 - root_mean_squared_error: 4758.8147\n",
      "Epoch 34/50\n",
      "167/167 [==============================] - 8s 45ms/step - loss: 20251903.0417 - root_mean_squared_error: 4497.5207\n",
      "Epoch 35/50\n",
      "167/167 [==============================] - 7s 44ms/step - loss: 18811002.6310 - root_mean_squared_error: 4334.0648\n",
      "Epoch 36/50\n",
      "167/167 [==============================] - 8s 45ms/step - loss: 20059710.7381 - root_mean_squared_error: 4467.0107\n",
      "Epoch 37/50\n",
      "167/167 [==============================] - 8s 46ms/step - loss: 21292430.9524 - root_mean_squared_error: 4610.7464\n",
      "Epoch 38/50\n",
      "167/167 [==============================] - 8s 45ms/step - loss: 20003848.4881 - root_mean_squared_error: 4469.4432\n",
      "Epoch 39/50\n",
      "167/167 [==============================] - 7s 45ms/step - loss: 21399127.6310 - root_mean_squared_error: 4611.3695\n",
      "Epoch 40/50\n",
      "167/167 [==============================] - 8s 45ms/step - loss: 17532650.4464 - root_mean_squared_error: 4179.0766\n",
      "Epoch 41/50\n",
      "167/167 [==============================] - 8s 45ms/step - loss: 19858588.2976 - root_mean_squared_error: 4452.3710\n",
      "Epoch 42/50\n",
      "167/167 [==============================] - 7s 45ms/step - loss: 22942187.0000 - root_mean_squared_error: 4770.6125\n",
      "Epoch 43/50\n",
      "167/167 [==============================] - 7s 45ms/step - loss: 17303241.6905 - root_mean_squared_error: 4152.8538\n",
      "Epoch 44/50\n",
      "167/167 [==============================] - 7s 44ms/step - loss: 19900874.9643 - root_mean_squared_error: 4455.9932\n",
      "Epoch 45/50\n",
      "167/167 [==============================] - 8s 45ms/step - loss: 17570124.7143 - root_mean_squared_error: 4187.1711\n",
      "Epoch 46/50\n",
      "167/167 [==============================] - 8s 45ms/step - loss: 20532824.5655 - root_mean_squared_error: 4523.9246\n",
      "Epoch 47/50\n",
      "167/167 [==============================] - 7s 45ms/step - loss: 19646346.7083 - root_mean_squared_error: 4414.8176\n",
      "Epoch 48/50\n",
      "167/167 [==============================] - 7s 45ms/step - loss: 18187310.0952 - root_mean_squared_error: 4261.7711\n",
      "Epoch 49/50\n",
      "167/167 [==============================] - 8s 45ms/step - loss: 22094752.3036 - root_mean_squared_error: 4692.2820\n",
      "Epoch 50/50\n",
      "167/167 [==============================] - 8s 45ms/step - loss: 20163213.2619 - root_mean_squared_error: 4485.7057\n"
     ]
    }
   ],
   "source": [
    "history = model.fit(train_Feature, train_Label, epochs = epochs, batch_size = batch_size)"
   ]
  },
  {
   "cell_type": "code",
   "execution_count": 7,
   "id": "4270e2b4",
   "metadata": {},
   "outputs": [],
   "source": [
    "test_df = pd.read_csv(f\"../data_dir/test_{target_stock}_0619.csv\")\n",
    "test_df[\"Medium\"] = test_df[[\"High\", \"Low\"]].mean(axis = 1)\n",
    "feature_test = test_df[[\"High\", \"Low\", \"Open\", \"Medium\"]]\n",
    "target_test = test_df[\"Close\"]\n",
    "test_Feature, test_Label = make_dataset(feature_test, target_test)\n"
   ]
  },
  {
   "cell_type": "code",
   "execution_count": 8,
   "id": "68b84730",
   "metadata": {},
   "outputs": [],
   "source": [
    "pred = model.predict(test_Feature)"
   ]
  },
  {
   "cell_type": "code",
   "execution_count": 9,
   "id": "b055913c",
   "metadata": {},
   "outputs": [
    {
     "data": {
      "text/plain": [
       "array([[662649.25],\n",
       "       [660727.94],\n",
       "       [661298.7 ],\n",
       "       [664165.3 ],\n",
       "       [668179.  ],\n",
       "       [679646.8 ],\n",
       "       [683319.44],\n",
       "       [692829.94],\n",
       "       [690913.94],\n",
       "       [693204.9 ],\n",
       "       [689709.  ],\n",
       "       [684950.8 ],\n",
       "       [679305.5 ],\n",
       "       [680783.1 ],\n",
       "       [682209.  ],\n",
       "       [680229.2 ],\n",
       "       [678419.4 ],\n",
       "       [677231.7 ],\n",
       "       [669673.06],\n",
       "       [658996.8 ],\n",
       "       [653871.75],\n",
       "       [648689.5 ],\n",
       "       [647302.06],\n",
       "       [644214.3 ],\n",
       "       [643763.94],\n",
       "       [633579.2 ],\n",
       "       [631495.94],\n",
       "       [632519.56],\n",
       "       [626759.2 ],\n",
       "       [625480.94],\n",
       "       [633631.06],\n",
       "       [634615.94],\n",
       "       [634205.44],\n",
       "       [637444.3 ],\n",
       "       [638093.7 ],\n",
       "       [638409.06],\n",
       "       [640807.94],\n",
       "       [631171.6 ],\n",
       "       [627837.8 ],\n",
       "       [623241.56],\n",
       "       [618610.3 ],\n",
       "       [613829.56],\n",
       "       [613950.56],\n",
       "       [611334.3 ],\n",
       "       [612077.1 ],\n",
       "       [618268.44],\n",
       "       [623828.5 ],\n",
       "       [628080.8 ],\n",
       "       [635597.7 ],\n",
       "       [642456.6 ]], dtype=float32)"
      ]
     },
     "execution_count": 9,
     "metadata": {},
     "output_type": "execute_result"
    }
   ],
   "source": [
    "pred"
   ]
  },
  {
   "cell_type": "code",
   "execution_count": 10,
   "id": "3d6cafd1",
   "metadata": {},
   "outputs": [
    {
     "data": {
      "text/plain": [
       "[<matplotlib.lines.Line2D at 0x7ecb348940>]"
      ]
     },
     "execution_count": 10,
     "metadata": {},
     "output_type": "execute_result"
    },
    {
     "data": {
      "image/png": "[encoded data removed]",
      "text/plain": [
       "<Figure size 432x288 with 1 Axes>"
      ]
     },
     "metadata": {
      "needs_background": "light"
     },
     "output_type": "display_data"
    }
   ],
   "source": [
    "plt.plot(range(len(pred)), pred)"
   ]
  },
  {
   "cell_type": "code",
   "execution_count": 11,
   "id": "0e35677d",
   "metadata": {},
   "outputs": [
    {
     "name": "stdout",
     "output_type": "stream",
     "text": [
      "INFO:tensorflow:Assets written to: ../models/my_model_SAMSUNG_SDI/assets\n"
     ]
    }
   ],
   "source": [
    "model.save(f\"../models/my_model_{target_stock}\")"
   ]
  }
 ],
 "metadata": {
  "kernelspec": {
   "display_name": "Python 3",
   "language": "python",
   "name": "python3"
  },
  "language_info": {
   "codemirror_mode": {
    "name": "ipython",
    "version": 3
   },
   "file_extension": ".py",
   "mimetype": "text/x-python",
   "name": "python",
   "nbconvert_exporter": "python",
   "pygments_lexer": "ipython3",
   "version": "3.6.9"
  }
 },
 "nbformat": 4,
 "nbformat_minor": 5
}
